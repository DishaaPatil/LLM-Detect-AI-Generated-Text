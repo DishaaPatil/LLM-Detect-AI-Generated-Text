{
 "cells": [
  {
   "cell_type": "code",
   "execution_count": 1,
   "id": "52a27ada",
   "metadata": {
    "_cell_guid": "b1076dfc-b9ad-4769-8c92-a6c4dae69d19",
    "_uuid": "8f2839f25d086af736a60e9eeb907d3b93b6e0e5",
    "execution": {
     "iopub.execute_input": "2023-12-15T19:58:11.779695Z",
     "iopub.status.busy": "2023-12-15T19:58:11.779422Z",
     "iopub.status.idle": "2023-12-15T19:58:12.636987Z",
     "shell.execute_reply": "2023-12-15T19:58:12.636029Z"
    },
    "papermill": {
     "duration": 0.868346,
     "end_time": "2023-12-15T19:58:12.639297",
     "exception": false,
     "start_time": "2023-12-15T19:58:11.770951",
     "status": "completed"
    },
    "tags": []
   },
   "outputs": [
    {
     "name": "stdout",
     "output_type": "stream",
     "text": [
      "/kaggle/input/llm-detect-ai-generated-text/sample_submission.csv\n",
      "/kaggle/input/llm-detect-ai-generated-text/train_prompts.csv\n",
      "/kaggle/input/llm-detect-ai-generated-text/test_essays.csv\n",
      "/kaggle/input/llm-detect-ai-generated-text/train_essays.csv\n",
      "/kaggle/input/daigt-proper-train-dataset/train_drcat_03.csv\n",
      "/kaggle/input/daigt-proper-train-dataset/train_drcat_02.csv\n",
      "/kaggle/input/daigt-proper-train-dataset/train_drcat_04.csv\n",
      "/kaggle/input/daigt-proper-train-dataset/train_drcat_01.csv\n"
     ]
    }
   ],
   "source": [
    "# This Python 3 environment comes with many helpful analytics libraries installed\n",
    "# It is defined by the kaggle/python Docker image: https://github.com/kaggle/docker-python\n",
    "# For example, here's several helpful packages to load\n",
    "\n",
    "import numpy as np # linear algebra\n",
    "import pandas as pd # data processing, CSV file I/O (e.g. pd.read_csv)\n",
    "\n",
    "# Input data files are available in the read-only \"../input/\" directory\n",
    "# For example, running this (by clicking run or pressing Shift+Enter) will list all files under the input directory\n",
    "\n",
    "import os\n",
    "for dirname, _, filenames in os.walk('/kaggle/input'):\n",
    "    for filename in filenames:\n",
    "        print(os.path.join(dirname, filename))\n",
    "\n",
    "# You can write up to 20GB to the current directory (/kaggle/working/) that gets preserved as output when you create a version using \"Save & Run All\" \n",
    "# You can also write temporary files to /kaggle/temp/, but they won't be saved outside of the current session"
   ]
  },
  {
   "cell_type": "code",
   "execution_count": 2,
   "id": "60985fcc",
   "metadata": {
    "execution": {
     "iopub.execute_input": "2023-12-15T19:58:12.655059Z",
     "iopub.status.busy": "2023-12-15T19:58:12.654655Z",
     "iopub.status.idle": "2023-12-15T19:58:12.755439Z",
     "shell.execute_reply": "2023-12-15T19:58:12.754672Z"
    },
    "papermill": {
     "duration": 0.111097,
     "end_time": "2023-12-15T19:58:12.757544",
     "exception": false,
     "start_time": "2023-12-15T19:58:12.646447",
     "status": "completed"
    },
    "tags": []
   },
   "outputs": [],
   "source": [
    "df_train=pd.read_csv('/kaggle/input/llm-detect-ai-generated-text/train_essays.csv')\n",
    "df_test=pd.read_csv('/kaggle/input/llm-detect-ai-generated-text/test_essays.csv')\n",
    "df_prompts=pd.read_csv('/kaggle/input/llm-detect-ai-generated-text/train_prompts.csv')"
   ]
  },
  {
   "cell_type": "code",
   "execution_count": 3,
   "id": "cb27f080",
   "metadata": {
    "execution": {
     "iopub.execute_input": "2023-12-15T19:58:12.772358Z",
     "iopub.status.busy": "2023-12-15T19:58:12.772073Z",
     "iopub.status.idle": "2023-12-15T19:58:12.789086Z",
     "shell.execute_reply": "2023-12-15T19:58:12.788138Z"
    },
    "papermill": {
     "duration": 0.026511,
     "end_time": "2023-12-15T19:58:12.790972",
     "exception": false,
     "start_time": "2023-12-15T19:58:12.764461",
     "status": "completed"
    },
    "tags": []
   },
   "outputs": [
    {
     "data": {
      "text/html": [
       "<div>\n",
       "<style scoped>\n",
       "    .dataframe tbody tr th:only-of-type {\n",
       "        vertical-align: middle;\n",
       "    }\n",
       "\n",
       "    .dataframe tbody tr th {\n",
       "        vertical-align: top;\n",
       "    }\n",
       "\n",
       "    .dataframe thead th {\n",
       "        text-align: right;\n",
       "    }\n",
       "</style>\n",
       "<table border=\"1\" class=\"dataframe\">\n",
       "  <thead>\n",
       "    <tr style=\"text-align: right;\">\n",
       "      <th></th>\n",
       "      <th>id</th>\n",
       "      <th>prompt_id</th>\n",
       "      <th>text</th>\n",
       "      <th>generated</th>\n",
       "    </tr>\n",
       "  </thead>\n",
       "  <tbody>\n",
       "    <tr>\n",
       "      <th>0</th>\n",
       "      <td>0059830c</td>\n",
       "      <td>0</td>\n",
       "      <td>Cars. Cars have been around since they became ...</td>\n",
       "      <td>0</td>\n",
       "    </tr>\n",
       "    <tr>\n",
       "      <th>1</th>\n",
       "      <td>005db917</td>\n",
       "      <td>0</td>\n",
       "      <td>Transportation is a large necessity in most co...</td>\n",
       "      <td>0</td>\n",
       "    </tr>\n",
       "    <tr>\n",
       "      <th>2</th>\n",
       "      <td>008f63e3</td>\n",
       "      <td>0</td>\n",
       "      <td>\"America's love affair with it's vehicles seem...</td>\n",
       "      <td>0</td>\n",
       "    </tr>\n",
       "    <tr>\n",
       "      <th>3</th>\n",
       "      <td>00940276</td>\n",
       "      <td>0</td>\n",
       "      <td>How often do you ride in a car? Do you drive a...</td>\n",
       "      <td>0</td>\n",
       "    </tr>\n",
       "    <tr>\n",
       "      <th>4</th>\n",
       "      <td>00c39458</td>\n",
       "      <td>0</td>\n",
       "      <td>Cars are a wonderful thing. They are perhaps o...</td>\n",
       "      <td>0</td>\n",
       "    </tr>\n",
       "  </tbody>\n",
       "</table>\n",
       "</div>"
      ],
      "text/plain": [
       "         id  prompt_id                                               text  \\\n",
       "0  0059830c          0  Cars. Cars have been around since they became ...   \n",
       "1  005db917          0  Transportation is a large necessity in most co...   \n",
       "2  008f63e3          0  \"America's love affair with it's vehicles seem...   \n",
       "3  00940276          0  How often do you ride in a car? Do you drive a...   \n",
       "4  00c39458          0  Cars are a wonderful thing. They are perhaps o...   \n",
       "\n",
       "   generated  \n",
       "0          0  \n",
       "1          0  \n",
       "2          0  \n",
       "3          0  \n",
       "4          0  "
      ]
     },
     "execution_count": 3,
     "metadata": {},
     "output_type": "execute_result"
    }
   ],
   "source": [
    "df_train.head()"
   ]
  },
  {
   "cell_type": "code",
   "execution_count": 4,
   "id": "a282783f",
   "metadata": {
    "execution": {
     "iopub.execute_input": "2023-12-15T19:58:12.805841Z",
     "iopub.status.busy": "2023-12-15T19:58:12.805580Z",
     "iopub.status.idle": "2023-12-15T19:58:12.831379Z",
     "shell.execute_reply": "2023-12-15T19:58:12.830295Z"
    },
    "papermill": {
     "duration": 0.035402,
     "end_time": "2023-12-15T19:58:12.833242",
     "exception": false,
     "start_time": "2023-12-15T19:58:12.797840",
     "status": "completed"
    },
    "tags": []
   },
   "outputs": [
    {
     "name": "stdout",
     "output_type": "stream",
     "text": [
      "<class 'pandas.core.frame.DataFrame'>\n",
      "RangeIndex: 1378 entries, 0 to 1377\n",
      "Data columns (total 4 columns):\n",
      " #   Column     Non-Null Count  Dtype \n",
      "---  ------     --------------  ----- \n",
      " 0   id         1378 non-null   object\n",
      " 1   prompt_id  1378 non-null   int64 \n",
      " 2   text       1378 non-null   object\n",
      " 3   generated  1378 non-null   int64 \n",
      "dtypes: int64(2), object(2)\n",
      "memory usage: 43.2+ KB\n"
     ]
    }
   ],
   "source": [
    "df_train.info()"
   ]
  },
  {
   "cell_type": "code",
   "execution_count": 5,
   "id": "c4642ac9",
   "metadata": {
    "execution": {
     "iopub.execute_input": "2023-12-15T19:58:12.848951Z",
     "iopub.status.busy": "2023-12-15T19:58:12.848472Z",
     "iopub.status.idle": "2023-12-15T19:58:12.861474Z",
     "shell.execute_reply": "2023-12-15T19:58:12.860572Z"
    },
    "papermill": {
     "duration": 0.023016,
     "end_time": "2023-12-15T19:58:12.863507",
     "exception": false,
     "start_time": "2023-12-15T19:58:12.840491",
     "status": "completed"
    },
    "tags": []
   },
   "outputs": [
    {
     "name": "stdout",
     "output_type": "stream",
     "text": [
      "                      id  text\n",
      "generated prompt_id           \n",
      "0         0          707   707\n",
      "          1          668   668\n",
      "1         0            1     1\n",
      "          1            2     2\n"
     ]
    }
   ],
   "source": [
    "print(df_train.groupby(['generated','prompt_id']).count())"
   ]
  },
  {
   "cell_type": "code",
   "execution_count": 6,
   "id": "0a01c948",
   "metadata": {
    "execution": {
     "iopub.execute_input": "2023-12-15T19:58:12.879066Z",
     "iopub.status.busy": "2023-12-15T19:58:12.878790Z",
     "iopub.status.idle": "2023-12-15T19:58:21.467013Z",
     "shell.execute_reply": "2023-12-15T19:58:21.466239Z"
    },
    "papermill": {
     "duration": 8.598405,
     "end_time": "2023-12-15T19:58:21.469343",
     "exception": false,
     "start_time": "2023-12-15T19:58:12.870938",
     "status": "completed"
    },
    "tags": []
   },
   "outputs": [],
   "source": [
    "df_train_1=pd.read_csv('/kaggle/input/daigt-proper-train-dataset/train_drcat_01.csv')\n",
    "df_train_2=pd.read_csv('/kaggle/input/daigt-proper-train-dataset/train_drcat_02.csv')\n",
    "df_train_3=pd.read_csv('/kaggle/input/daigt-proper-train-dataset/train_drcat_03.csv')\n",
    "df_train_4=pd.read_csv('/kaggle/input/daigt-proper-train-dataset/train_drcat_04.csv')"
   ]
  },
  {
   "cell_type": "code",
   "execution_count": 7,
   "id": "53d9af91",
   "metadata": {
    "execution": {
     "iopub.execute_input": "2023-12-15T19:58:21.485520Z",
     "iopub.status.busy": "2023-12-15T19:58:21.485228Z",
     "iopub.status.idle": "2023-12-15T19:58:21.502377Z",
     "shell.execute_reply": "2023-12-15T19:58:21.501299Z"
    },
    "papermill": {
     "duration": 0.028188,
     "end_time": "2023-12-15T19:58:21.505347",
     "exception": false,
     "start_time": "2023-12-15T19:58:21.477159",
     "status": "completed"
    },
    "tags": []
   },
   "outputs": [
    {
     "data": {
      "text/html": [
       "<div>\n",
       "<style scoped>\n",
       "    .dataframe tbody tr th:only-of-type {\n",
       "        vertical-align: middle;\n",
       "    }\n",
       "\n",
       "    .dataframe tbody tr th {\n",
       "        vertical-align: top;\n",
       "    }\n",
       "\n",
       "    .dataframe thead th {\n",
       "        text-align: right;\n",
       "    }\n",
       "</style>\n",
       "<table border=\"1\" class=\"dataframe\">\n",
       "  <thead>\n",
       "    <tr style=\"text-align: right;\">\n",
       "      <th></th>\n",
       "      <th>text_size</th>\n",
       "    </tr>\n",
       "  </thead>\n",
       "  <tbody>\n",
       "    <tr>\n",
       "      <th>count</th>\n",
       "      <td>1378.000000</td>\n",
       "    </tr>\n",
       "    <tr>\n",
       "      <th>mean</th>\n",
       "      <td>3169.050798</td>\n",
       "    </tr>\n",
       "    <tr>\n",
       "      <th>std</th>\n",
       "      <td>920.588198</td>\n",
       "    </tr>\n",
       "    <tr>\n",
       "      <th>min</th>\n",
       "      <td>1356.000000</td>\n",
       "    </tr>\n",
       "    <tr>\n",
       "      <th>25%</th>\n",
       "      <td>2554.250000</td>\n",
       "    </tr>\n",
       "    <tr>\n",
       "      <th>50%</th>\n",
       "      <td>2985.500000</td>\n",
       "    </tr>\n",
       "    <tr>\n",
       "      <th>75%</th>\n",
       "      <td>3623.750000</td>\n",
       "    </tr>\n",
       "    <tr>\n",
       "      <th>max</th>\n",
       "      <td>8436.000000</td>\n",
       "    </tr>\n",
       "  </tbody>\n",
       "</table>\n",
       "</div>"
      ],
      "text/plain": [
       "         text_size\n",
       "count  1378.000000\n",
       "mean   3169.050798\n",
       "std     920.588198\n",
       "min    1356.000000\n",
       "25%    2554.250000\n",
       "50%    2985.500000\n",
       "75%    3623.750000\n",
       "max    8436.000000"
      ]
     },
     "execution_count": 7,
     "metadata": {},
     "output_type": "execute_result"
    }
   ],
   "source": [
    "text_size=[]\n",
    "for i in df_train['text']:\n",
    "  text_size.append(len(i))\n",
    "text_size=pd.DataFrame(text_size, columns=['text_size'])\n",
    "#text_size.head()\n",
    "text_size.describe()\n",
    "#print(text_size.mode())"
   ]
  },
  {
   "cell_type": "code",
   "execution_count": 8,
   "id": "36f02928",
   "metadata": {
    "execution": {
     "iopub.execute_input": "2023-12-15T19:58:21.522317Z",
     "iopub.status.busy": "2023-12-15T19:58:21.521773Z",
     "iopub.status.idle": "2023-12-15T19:58:21.542285Z",
     "shell.execute_reply": "2023-12-15T19:58:21.541597Z"
    },
    "papermill": {
     "duration": 0.030805,
     "end_time": "2023-12-15T19:58:21.544158",
     "exception": false,
     "start_time": "2023-12-15T19:58:21.513353",
     "status": "completed"
    },
    "tags": []
   },
   "outputs": [],
   "source": [
    "train_1 = df_train_1[['text', 'label']]\n",
    "train_1 = train_1.set_axis(['text', 'generated'], axis=1)\n",
    "train_2 = df_train_2[['text', 'label']]\n",
    "train_2 = train_2.set_axis(['text', 'generated'], axis=1)\n",
    "train_3 = df_train_3[['text', 'label']]\n",
    "train_3 = train_3.set_axis(['text', 'generated'], axis=1)\n",
    "train_4 = df_train_4[['text', 'label']]\n",
    "train_4 = train_4.set_axis(['text', 'generated'], axis=1)\n",
    "\n",
    "df_train = df_train[['text', 'generated']]\n"
   ]
  },
  {
   "cell_type": "code",
   "execution_count": 9,
   "id": "34b9e4d5",
   "metadata": {
    "execution": {
     "iopub.execute_input": "2023-12-15T19:58:21.559768Z",
     "iopub.status.busy": "2023-12-15T19:58:21.559519Z",
     "iopub.status.idle": "2023-12-15T19:58:21.586348Z",
     "shell.execute_reply": "2023-12-15T19:58:21.585440Z"
    },
    "papermill": {
     "duration": 0.03679,
     "end_time": "2023-12-15T19:58:21.588151",
     "exception": false,
     "start_time": "2023-12-15T19:58:21.551361",
     "status": "completed"
    },
    "tags": []
   },
   "outputs": [
    {
     "name": "stdout",
     "output_type": "stream",
     "text": [
      "missing_values_train:\n",
      " text         0\n",
      "generated    0\n",
      "dtype: int64\n"
     ]
    }
   ],
   "source": [
    "df_train = pd.concat([train_1, train_2, train_3, train_4, df_train])\n",
    "missing_values = df_train.isnull().sum()\n",
    "print(\"missing_values_train:\\n\", missing_values)\n"
   ]
  },
  {
   "cell_type": "code",
   "execution_count": 10,
   "id": "2ca28beb",
   "metadata": {
    "execution": {
     "iopub.execute_input": "2023-12-15T19:58:21.605561Z",
     "iopub.status.busy": "2023-12-15T19:58:21.604906Z",
     "iopub.status.idle": "2023-12-15T19:58:21.632341Z",
     "shell.execute_reply": "2023-12-15T19:58:21.631359Z"
    },
    "papermill": {
     "duration": 0.03844,
     "end_time": "2023-12-15T19:58:21.634506",
     "exception": false,
     "start_time": "2023-12-15T19:58:21.596066",
     "status": "completed"
    },
    "tags": []
   },
   "outputs": [
    {
     "name": "stdout",
     "output_type": "stream",
     "text": [
      "             text\n",
      "generated        \n",
      "0          116747\n",
      "1           44087\n"
     ]
    }
   ],
   "source": [
    "print(df_train.groupby(['generated']).count())"
   ]
  },
  {
   "cell_type": "code",
   "execution_count": 11,
   "id": "3a4faf83",
   "metadata": {
    "execution": {
     "iopub.execute_input": "2023-12-15T19:58:21.651246Z",
     "iopub.status.busy": "2023-12-15T19:58:21.650704Z",
     "iopub.status.idle": "2023-12-15T20:00:19.421540Z",
     "shell.execute_reply": "2023-12-15T20:00:19.420636Z"
    },
    "papermill": {
     "duration": 117.781693,
     "end_time": "2023-12-15T20:00:19.424221",
     "exception": false,
     "start_time": "2023-12-15T19:58:21.642528",
     "status": "completed"
    },
    "tags": []
   },
   "outputs": [
    {
     "name": "stderr",
     "output_type": "stream",
     "text": [
      "/opt/conda/lib/python3.10/site-packages/scipy/__init__.py:146: UserWarning: A NumPy version >=1.16.5 and <1.23.0 is required for this version of SciPy (detected version 1.24.3\n",
      "  warnings.warn(f\"A NumPy version >={np_minversion} and <{np_maxversion}\"\n"
     ]
    }
   ],
   "source": [
    "from sklearn.model_selection import train_test_split\n",
    "import tensorflow\n",
    "import keras\n",
    "import numpy as np\n",
    "from tensorflow.keras.preprocessing.text import Tokenizer\n",
    "from tensorflow.keras.preprocessing.sequence import pad_sequences\n",
    "from tensorflow.keras.layers import Input, Embedding, Dense, Flatten, Concatenate\n",
    "from tensorflow.keras.models import Model\n",
    "from sklearn.feature_extraction.text import CountVectorizer, TfidfVectorizer\n",
    "\n",
    "# Text data preprocessing\n",
    "tokenizer = Tokenizer()\n",
    "tokenizer.fit_on_texts(df_train['text'])\n",
    "text_sequences = tokenizer.texts_to_sequences(df_train['text'])\n",
    "X = pad_sequences(text_sequences,maxlen=2500)\n"
   ]
  },
  {
   "cell_type": "code",
   "execution_count": 12,
   "id": "b20d8ceb",
   "metadata": {
    "execution": {
     "iopub.execute_input": "2023-12-15T20:00:19.442096Z",
     "iopub.status.busy": "2023-12-15T20:00:19.441524Z",
     "iopub.status.idle": "2023-12-15T20:00:19.446008Z",
     "shell.execute_reply": "2023-12-15T20:00:19.445174Z"
    },
    "papermill": {
     "duration": 0.015348,
     "end_time": "2023-12-15T20:00:19.447970",
     "exception": false,
     "start_time": "2023-12-15T20:00:19.432622",
     "status": "completed"
    },
    "tags": []
   },
   "outputs": [],
   "source": [
    "y=df_train['generated']"
   ]
  },
  {
   "cell_type": "code",
   "execution_count": 13,
   "id": "31674c62",
   "metadata": {
    "execution": {
     "iopub.execute_input": "2023-12-15T20:00:19.464624Z",
     "iopub.status.busy": "2023-12-15T20:00:19.464368Z",
     "iopub.status.idle": "2023-12-15T20:00:20.168084Z",
     "shell.execute_reply": "2023-12-15T20:00:20.166844Z"
    },
    "papermill": {
     "duration": 0.714804,
     "end_time": "2023-12-15T20:00:20.170505",
     "exception": false,
     "start_time": "2023-12-15T20:00:19.455701",
     "status": "completed"
    },
    "tags": []
   },
   "outputs": [
    {
     "name": "stdout",
     "output_type": "stream",
     "text": [
      "generated\n",
      "0    44087\n",
      "1    44087\n",
      "Name: count, dtype: int64\n"
     ]
    }
   ],
   "source": [
    "from imblearn.under_sampling import RandomUnderSampler\n",
    "from sklearn.model_selection import train_test_split\n",
    "# Undersample the datapoints with generated value 0\n",
    "undersampler = RandomUnderSampler(sampling_strategy=1)  # Set sampling_strategy to the desired ratio\n",
    "X_resampled, y_resampled = undersampler.fit_resample(X,y)\n",
    "\n",
    "# Combine the resampled data back into a DataFrame\n",
    "\n",
    "\n",
    "# Print the count of each class after undersampling\n",
    "print(y_resampled.value_counts())"
   ]
  },
  {
   "cell_type": "code",
   "execution_count": null,
   "id": "1b9ebeaf",
   "metadata": {
    "papermill": {
     "duration": 0.007403,
     "end_time": "2023-12-15T20:00:20.186634",
     "exception": false,
     "start_time": "2023-12-15T20:00:20.179231",
     "status": "completed"
    },
    "tags": []
   },
   "outputs": [],
   "source": []
  },
  {
   "cell_type": "code",
   "execution_count": 14,
   "id": "d44d68d0",
   "metadata": {
    "execution": {
     "iopub.execute_input": "2023-12-15T20:00:20.203049Z",
     "iopub.status.busy": "2023-12-15T20:00:20.202498Z",
     "iopub.status.idle": "2023-12-15T20:00:20.964531Z",
     "shell.execute_reply": "2023-12-15T20:00:20.963728Z"
    },
    "papermill": {
     "duration": 0.772703,
     "end_time": "2023-12-15T20:00:20.966786",
     "exception": false,
     "start_time": "2023-12-15T20:00:20.194083",
     "status": "completed"
    },
    "tags": []
   },
   "outputs": [],
   "source": [
    "\n",
    "# Split the data into training and validation sets (adjust the test_size as needed)\n",
    "X_train, X_valid, y_train, y_valid = train_test_split(X, y, test_size=0.2, random_state=42)\n",
    "X_train_s, X_valid_s, y_train_s, y_valid_s = train_test_split(X_resampled, y_resampled, test_size=0.2, random_state=42)\n"
   ]
  },
  {
   "cell_type": "code",
   "execution_count": null,
   "id": "d56b7b9f",
   "metadata": {
    "papermill": {
     "duration": 0.007647,
     "end_time": "2023-12-15T20:00:20.982617",
     "exception": false,
     "start_time": "2023-12-15T20:00:20.974970",
     "status": "completed"
    },
    "tags": []
   },
   "outputs": [],
   "source": []
  },
  {
   "cell_type": "code",
   "execution_count": 15,
   "id": "01470fd5",
   "metadata": {
    "execution": {
     "iopub.execute_input": "2023-12-15T20:00:20.998759Z",
     "iopub.status.busy": "2023-12-15T20:00:20.998448Z",
     "iopub.status.idle": "2023-12-15T20:00:25.391231Z",
     "shell.execute_reply": "2023-12-15T20:00:25.390320Z"
    },
    "papermill": {
     "duration": 4.408304,
     "end_time": "2023-12-15T20:00:25.398373",
     "exception": false,
     "start_time": "2023-12-15T20:00:20.990069",
     "status": "completed"
    },
    "tags": []
   },
   "outputs": [
    {
     "name": "stdout",
     "output_type": "stream",
     "text": [
      "Model: \"model\"\n",
      "__________________________________________________________________________________________________\n",
      " Layer (type)                Output Shape                 Param #   Connected to                  \n",
      "==================================================================================================\n",
      " input_1 (InputLayer)        [(None, 2500)]               0         []                            \n",
      "                                                                                                  \n",
      " embedding (Embedding)       (None, 2500, 32)             3081536   ['input_1[0][0]']             \n",
      "                                                                                                  \n",
      " conv1d (Conv1D)             (None, 2496, 128)            20608     ['embedding[0][0]']           \n",
      "                                                                                                  \n",
      " flatten (Flatten)           (None, 80000)                0         ['embedding[0][0]']           \n",
      "                                                                                                  \n",
      " batch_normalization (Batch  (None, 2496, 128)            512       ['conv1d[0][0]']              \n",
      " Normalization)                                                                                   \n",
      "                                                                                                  \n",
      " dense (Dense)               (None, 64)                   5120064   ['flatten[0][0]']             \n",
      "                                                                                                  \n",
      " dropout (Dropout)           (None, 2496, 128)            0         ['batch_normalization[0][0]'] \n",
      "                                                                                                  \n",
      " batch_normalization_1 (Bat  (None, 64)                   256       ['dense[0][0]']               \n",
      " chNormalization)                                                                                 \n",
      "                                                                                                  \n",
      " global_max_pooling1d (Glob  (None, 128)                  0         ['dropout[0][0]']             \n",
      " alMaxPooling1D)                                                                                  \n",
      "                                                                                                  \n",
      " dropout_1 (Dropout)         (None, 64)                   0         ['batch_normalization_1[0][0]'\n",
      "                                                                    ]                             \n",
      "                                                                                                  \n",
      " concatenate (Concatenate)   (None, 192)                  0         ['global_max_pooling1d[0][0]',\n",
      "                                                                     'dropout_1[0][0]']           \n",
      "                                                                                                  \n",
      " dense_1 (Dense)             (None, 1)                    193       ['concatenate[0][0]']         \n",
      "                                                                                                  \n",
      "==================================================================================================\n",
      "Total params: 8223169 (31.37 MB)\n",
      "Trainable params: 8222785 (31.37 MB)\n",
      "Non-trainable params: 384 (1.50 KB)\n",
      "__________________________________________________________________________________________________\n"
     ]
    }
   ],
   "source": [
    "from tensorflow.keras.layers import Conv1D, GlobalMaxPooling1D, BatchNormalization, Dropout\n",
    "from tensorflow.keras.regularizers import l2\n",
    "import tensorflow as tf\n",
    "\n",
    "# Force TensorFlow to use GPU if available\n",
    "if tf.test.is_gpu_available():\n",
    "    config = tf.compat.v1.ConfigProto()\n",
    "    config.gpu_options.allow_growth = True\n",
    "    tf.compat.v1.Session(config=config)\n",
    "\n",
    "\n",
    "\n",
    "# DNN model architecture (customize as needed)\n",
    "input_layer = Input(shape=(X_train.shape[1],))\n",
    "embedding_layer = Embedding(input_dim=len(tokenizer.word_index) + 501, output_dim=32)(input_layer)\n",
    "\n",
    "conv1d_1 = Conv1D(128, 5, activation='relu', kernel_regularizer=l2(0.01))(embedding_layer)\n",
    "conv1d_1 = BatchNormalization()(conv1d_1)\n",
    "conv1d_1 = Dropout(0.2)(conv1d_1)\n",
    "maxpooling_1 = GlobalMaxPooling1D()(conv1d_1)\n",
    "\n",
    "flatten_layer = Flatten()(embedding_layer)\n",
    "hidden_layer = Dense(64, activation='relu', kernel_regularizer=l2(0.01))(flatten_layer)\n",
    "hidden_layer = BatchNormalization()(hidden_layer)\n",
    "hidden_layer = Dropout(0.2)(hidden_layer)\n",
    "\n",
    "# Concatenate the results from Conv1D and Dense layers\n",
    "concatenated = Concatenate()([maxpooling_1, hidden_layer])\n",
    "\n",
    "output_layer = Dense(1, activation='sigmoid')(concatenated)\n",
    "\n",
    "model = Model(inputs=input_layer, outputs=output_layer)\n",
    "\n",
    "model.compile(optimizer='adamax', loss='binary_crossentropy', metrics=['accuracy'])\n",
    "\n",
    "model_se = Model(inputs=input_layer, outputs=output_layer)\n",
    "\n",
    "model_se.compile(optimizer='adamax', loss='binary_crossentropy', metrics=['accuracy'])\n",
    "model.summary()"
   ]
  },
  {
   "cell_type": "code",
   "execution_count": 16,
   "id": "4a2eb8cb",
   "metadata": {
    "execution": {
     "iopub.execute_input": "2023-12-15T20:00:25.421836Z",
     "iopub.status.busy": "2023-12-15T20:00:25.421539Z",
     "iopub.status.idle": "2023-12-15T20:14:52.459021Z",
     "shell.execute_reply": "2023-12-15T20:14:52.457969Z"
    },
    "papermill": {
     "duration": 867.051666,
     "end_time": "2023-12-15T20:14:52.461106",
     "exception": false,
     "start_time": "2023-12-15T20:00:25.409440",
     "status": "completed"
    },
    "tags": []
   },
   "outputs": [
    {
     "name": "stdout",
     "output_type": "stream",
     "text": [
      "Epoch 1/10\n",
      "252/252 [==============================] - 117s 419ms/step - loss: 0.4985 - accuracy: 0.9701 - val_loss: 0.5669 - val_accuracy: 0.9942\n",
      "Epoch 2/10\n",
      "252/252 [==============================] - 97s 386ms/step - loss: 0.1464 - accuracy: 0.9971 - val_loss: 0.1718 - val_accuracy: 0.9977\n",
      "Epoch 3/10\n",
      "252/252 [==============================] - 89s 354ms/step - loss: 0.0789 - accuracy: 0.9980 - val_loss: 0.0703 - val_accuracy: 0.9956\n",
      "Epoch 4/10\n",
      "252/252 [==============================] - 86s 341ms/step - loss: 0.0475 - accuracy: 0.9986 - val_loss: 0.1456 - val_accuracy: 0.9464\n",
      "Epoch 5/10\n",
      "252/252 [==============================] - 84s 333ms/step - loss: 0.0314 - accuracy: 0.9990 - val_loss: 0.0341 - val_accuracy: 0.9964\n",
      "Epoch 6/10\n",
      "252/252 [==============================] - 80s 317ms/step - loss: 0.0242 - accuracy: 0.9992 - val_loss: 0.0333 - val_accuracy: 0.9973\n",
      "Epoch 7/10\n",
      "252/252 [==============================] - 79s 314ms/step - loss: 0.0200 - accuracy: 0.9993 - val_loss: 0.1822 - val_accuracy: 0.9250\n",
      "Epoch 8/10\n",
      "252/252 [==============================] - 79s 311ms/step - loss: 0.0151 - accuracy: 0.9995 - val_loss: 0.0512 - val_accuracy: 0.9843\n",
      "Epoch 9/10\n",
      "252/252 [==============================] - 78s 310ms/step - loss: 0.0125 - accuracy: 0.9996 - val_loss: 0.0151 - val_accuracy: 0.9986\n",
      "Epoch 10/10\n",
      "252/252 [==============================] - 76s 302ms/step - loss: 0.0131 - accuracy: 0.9996 - val_loss: 0.2526 - val_accuracy: 0.8892\n"
     ]
    },
    {
     "data": {
      "text/plain": [
       "<keras.src.callbacks.History at 0x7fc8d819bd90>"
      ]
     },
     "execution_count": 16,
     "metadata": {},
     "output_type": "execute_result"
    }
   ],
   "source": [
    "# Training the model\n",
    "\n",
    "model.fit(X_train, y_train, validation_data=(X_valid, y_valid), epochs=10, batch_size=512)"
   ]
  },
  {
   "cell_type": "code",
   "execution_count": 17,
   "id": "b87d0306",
   "metadata": {
    "execution": {
     "iopub.execute_input": "2023-12-15T20:14:52.930568Z",
     "iopub.status.busy": "2023-12-15T20:14:52.929956Z",
     "iopub.status.idle": "2023-12-15T20:14:53.569625Z",
     "shell.execute_reply": "2023-12-15T20:14:53.568618Z"
    },
    "papermill": {
     "duration": 0.853316,
     "end_time": "2023-12-15T20:14:53.571967",
     "exception": false,
     "start_time": "2023-12-15T20:14:52.718651",
     "status": "completed"
    },
    "tags": []
   },
   "outputs": [
    {
     "data": {
      "image/png": "[encoded data removed]",
      "text/plain": [
       "<Figure size 1200x400 with 2 Axes>"
      ]
     },
     "metadata": {},
     "output_type": "display_data"
    }
   ],
   "source": [
    "import matplotlib.pyplot as plt\n",
    "\n",
    "\n",
    "# Plot training & validation accuracy values\n",
    "plt.figure(figsize=(12, 4))\n",
    "plt.subplot(1, 2, 1)\n",
    "plt.plot(model.history.history['accuracy'])\n",
    "plt.plot(model.history.history['val_accuracy'])\n",
    "plt.title('Model accuracy')\n",
    "plt.ylabel('Accuracy')\n",
    "plt.xlabel('Epoch')\n",
    "plt.legend(['Train', 'Validation'], loc='upper left')\n",
    "\n",
    "# Plot training & validation loss values\n",
    "plt.subplot(1, 2, 2)\n",
    "plt.plot(model.history.history['loss'])\n",
    "plt.plot(model.history.history['val_loss'])\n",
    "plt.title('Model loss')\n",
    "plt.ylabel('Loss')\n",
    "plt.xlabel('Epoch')\n",
    "plt.legend(['Train', 'Validation'], loc='upper left')\n",
    "\n",
    "plt.tight_layout()\n",
    "plt.show()"
   ]
  },
  {
   "cell_type": "code",
   "execution_count": 18,
   "id": "d3eaeaad",
   "metadata": {
    "execution": {
     "iopub.execute_input": "2023-12-15T20:14:54.023142Z",
     "iopub.status.busy": "2023-12-15T20:14:54.022345Z",
     "iopub.status.idle": "2023-12-15T20:14:54.501394Z",
     "shell.execute_reply": "2023-12-15T20:14:54.500399Z"
    },
    "papermill": {
     "duration": 0.720328,
     "end_time": "2023-12-15T20:14:54.503608",
     "exception": false,
     "start_time": "2023-12-15T20:14:53.783280",
     "status": "completed"
    },
    "tags": []
   },
   "outputs": [
    {
     "name": "stdout",
     "output_type": "stream",
     "text": [
      "1/1 [==============================] - 0s 187ms/step\n"
     ]
    }
   ],
   "source": [
    "text_sequences = tokenizer.texts_to_sequences(df_test['text'])\n",
    "X_test= pad_sequences(text_sequences, maxlen=2500)\n",
    "# Initialize an array to store predictions for each fold\n",
    "fold_preds = np.zeros(shape=(len(df_test),), dtype='float32')\n",
    "\n",
    "y = model.predict(X_test)\n",
    "\n",
    "fold_preds += y.squeeze()"
   ]
  },
  {
   "cell_type": "code",
   "execution_count": 19,
   "id": "57c8b1e2",
   "metadata": {
    "execution": {
     "iopub.execute_input": "2023-12-15T20:14:54.948325Z",
     "iopub.status.busy": "2023-12-15T20:14:54.947915Z",
     "iopub.status.idle": "2023-12-15T20:14:54.960648Z",
     "shell.execute_reply": "2023-12-15T20:14:54.959766Z"
    },
    "papermill": {
     "duration": 0.229209,
     "end_time": "2023-12-15T20:14:54.962930",
     "exception": false,
     "start_time": "2023-12-15T20:14:54.733721",
     "status": "completed"
    },
    "tags": []
   },
   "outputs": [],
   "source": [
    "sub_df = df_test[[\"id\"]].copy()\n",
    "\n",
    "# Add the formatted predictions to the submission DataFrame\n",
    "sub_df[\"generated\"] = fold_preds.squeeze()\n",
    "\n",
    "sub_df.to_csv('submission.csv',index=False)"
   ]
  },
  {
   "cell_type": "code",
   "execution_count": 20,
   "id": "c73e350f",
   "metadata": {
    "execution": {
     "iopub.execute_input": "2023-12-15T20:14:55.405292Z",
     "iopub.status.busy": "2023-12-15T20:14:55.404921Z",
     "iopub.status.idle": "2023-12-15T20:14:55.414702Z",
     "shell.execute_reply": "2023-12-15T20:14:55.413800Z"
    },
    "papermill": {
     "duration": 0.224552,
     "end_time": "2023-12-15T20:14:55.416699",
     "exception": false,
     "start_time": "2023-12-15T20:14:55.192147",
     "status": "completed"
    },
    "tags": []
   },
   "outputs": [
    {
     "data": {
      "text/html": [
       "<div>\n",
       "<style scoped>\n",
       "    .dataframe tbody tr th:only-of-type {\n",
       "        vertical-align: middle;\n",
       "    }\n",
       "\n",
       "    .dataframe tbody tr th {\n",
       "        vertical-align: top;\n",
       "    }\n",
       "\n",
       "    .dataframe thead th {\n",
       "        text-align: right;\n",
       "    }\n",
       "</style>\n",
       "<table border=\"1\" class=\"dataframe\">\n",
       "  <thead>\n",
       "    <tr style=\"text-align: right;\">\n",
       "      <th></th>\n",
       "      <th>id</th>\n",
       "      <th>generated</th>\n",
       "    </tr>\n",
       "  </thead>\n",
       "  <tbody>\n",
       "    <tr>\n",
       "      <th>0</th>\n",
       "      <td>0000aaaa</td>\n",
       "      <td>0.999992</td>\n",
       "    </tr>\n",
       "    <tr>\n",
       "      <th>1</th>\n",
       "      <td>1111bbbb</td>\n",
       "      <td>0.999991</td>\n",
       "    </tr>\n",
       "    <tr>\n",
       "      <th>2</th>\n",
       "      <td>2222cccc</td>\n",
       "      <td>0.999991</td>\n",
       "    </tr>\n",
       "  </tbody>\n",
       "</table>\n",
       "</div>"
      ],
      "text/plain": [
       "         id  generated\n",
       "0  0000aaaa   0.999992\n",
       "1  1111bbbb   0.999991\n",
       "2  2222cccc   0.999991"
      ]
     },
     "execution_count": 20,
     "metadata": {},
     "output_type": "execute_result"
    }
   ],
   "source": [
    "# Display the first 2 rows of the submission DataFrame\n",
    "sub_df.head()"
   ]
  },
  {
   "cell_type": "code",
   "execution_count": null,
   "id": "a374e98f",
   "metadata": {
    "papermill": {
     "duration": 0.206328,
     "end_time": "2023-12-15T20:14:55.832529",
     "exception": false,
     "start_time": "2023-12-15T20:14:55.626201",
     "status": "completed"
    },
    "tags": []
   },
   "outputs": [],
   "source": []
  },
  {
   "cell_type": "code",
   "execution_count": null,
   "id": "a60a5ecd",
   "metadata": {
    "papermill": {
     "duration": 0.218003,
     "end_time": "2023-12-15T20:14:56.261986",
     "exception": false,
     "start_time": "2023-12-15T20:14:56.043983",
     "status": "completed"
    },
    "tags": []
   },
   "outputs": [],
   "source": []
  },
  {
   "cell_type": "code",
   "execution_count": null,
   "id": "522a3570",
   "metadata": {
    "papermill": {
     "duration": 0.208463,
     "end_time": "2023-12-15T20:14:56.686100",
     "exception": false,
     "start_time": "2023-12-15T20:14:56.477637",
     "status": "completed"
    },
    "tags": []
   },
   "outputs": [],
   "source": []
  }
 ],
 "metadata": {
  "kaggle": {
   "accelerator": "nvidiaTeslaT4",
   "dataSources": [
    {
     "databundleVersionId": 6888007,
     "sourceId": 61542,
     "sourceType": "competition"
    },
    {
     "datasetId": 3942644,
     "sourceId": 6890527,
     "sourceType": "datasetVersion"
    }
   ],
   "dockerImageVersionId": 30626,
   "isGpuEnabled": true,
   "isInternetEnabled": false,
   "language": "python",
   "sourceType": "notebook"
  },
  "kernelspec": {
   "display_name": "Python 3",
   "language": "python",
   "name": "python3"
  },
  "language_info": {
   "codemirror_mode": {
    "name": "ipython",
    "version": 3
   },
   "file_extension": ".py",
   "mimetype": "text/x-python",
   "name": "python",
   "nbconvert_exporter": "python",
   "pygments_lexer": "ipython3",
   "version": "3.10.12"
  },
  "papermill": {
   "default_parameters": {},
   "duration": 1012.173767,
   "end_time": "2023-12-15T20:15:00.322678",
   "environment_variables": {},
   "exception": null,
   "input_path": "__notebook__.ipynb",
   "output_path": "__notebook__.ipynb",
   "parameters": {},
   "start_time": "2023-12-15T19:58:08.148911",
   "version": "2.4.0"
  }
 },
 "nbformat": 4,
 "nbformat_minor": 5
}
